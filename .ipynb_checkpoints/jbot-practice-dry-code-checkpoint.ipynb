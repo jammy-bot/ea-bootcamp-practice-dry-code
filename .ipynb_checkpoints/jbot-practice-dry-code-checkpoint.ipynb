{
 "cells": [
  {
   "cell_type": "markdown",
   "metadata": {},
   "source": [
    "# Practice with DRY code\n",
    "<b>Author:</b> jbot  \n",
    "<b>Date:</b> 12/08/2019"
   ]
  },
  {
   "cell_type": "markdown",
   "metadata": {},
   "source": [
    "## Part I: Create and Modify a Jupyter Notebook**\n",
    "\n",
    "**Import Python Packages to work with numpy arrays and pandas dataframes, download files, accces directories and plot data**"
   ]
  },
  {
   "cell_type": "code",
   "execution_count": 1,
   "metadata": {},
   "outputs": [
    {
     "name": "stdout",
     "output_type": "stream",
     "text": [
      "import of packages successful\n"
     ]
    }
   ],
   "source": [
    "# Import necessary Python packages\n",
    "import os\n",
    "import numpy as np\n",
    "import pandas as pd\n",
    "import urllib.request\n",
    "import matplotlib.pyplot as plt\n",
    "import glob as gl\n",
    "\n",
    "# Print message after packages imported successfully\n",
    "print(\"import of packages successful\")"
   ]
  },
  {
   "cell_type": "markdown",
   "metadata": {},
   "source": [
    "**Get data from numpy arrays**\n",
    "\n",
    "Use `.urllib.request` to download the following .csv files of monthly precipitation (inches) and import the data to numpy arrays:\n",
    "\n",
    "monthly-precip-1988-to-1992.csv from https://ndownloader.figshare.com/files/12807380\n",
    "\n",
    "monthly-precip-1993-to-1997.csv from https://ndownloader.figshare.com/files/12807383\n",
    "\n",
    "Each dataset contains a row for each year specified in the dataset name and contains a column for each month (starting with January through December)."
   ]
  },
  {
   "cell_type": "code",
   "execution_count": 2,
   "metadata": {},
   "outputs": [
    {
     "name": "stdout",
     "output_type": "stream",
     "text": [
      "datasets downloaded successfully\n"
     ]
    }
   ],
   "source": [
    "# Set the working directory to the `earth-analytics-bootcamp` directory\n",
    "os.chdir(\"C:/Users/jd/earth-analytics-bootcamp/\")\n",
    "\n",
    "# Download .csv files of monthly precipitation array data\n",
    "urllib.request.urlretrieve(url = \"https://ndownloader.figshare.com/files/12807380\", \n",
    "                           filename = \"data/monthly-precip-1988-to-1992.csv\")\n",
    "\n",
    "urllib.request.urlretrieve(url = \"https://ndownloader.figshare.com/files/12807383\", \n",
    "                           filename = \"data/monthly-precip-1993-to-1997.csv\")\n",
    "\n",
    "# Print message that data downloads were successful\n",
    "print(\"datasets downloaded successfully\")"
   ]
  },
  {
   "cell_type": "markdown",
   "metadata": {},
   "source": [
    "**Get data from pandas dataframes**\n",
    "\n",
    "Use `.urllib.request` to download the following .csv files of monthly temperature (Fahrenheit) and import the data to pandas dataframes:\n",
    "\n",
    "temp-1991-to-1995-months.csv from https://ndownloader.figshare.com/files/12807389\n",
    "\n",
    "temp-1996-to-2000-months.csv from https://ndownloader.figshare.com/files/12807386\n",
    "\n",
    "Each dataset contains a row for each year specified in the dataset name and a column for each month (starting with January through December)."
   ]
  },
  {
   "cell_type": "code",
   "execution_count": 3,
   "metadata": {},
   "outputs": [
    {
     "name": "stdout",
     "output_type": "stream",
     "text": [
      "datasets downloaded successfully\n"
     ]
    }
   ],
   "source": [
    "# Download .csv files of monthly temperature dataframe data\n",
    "urllib.request.urlretrieve(url = \"https://ndownloader.figshare.com/files/12807389\", \n",
    "                           filename = \"data/temp-1991-to-1995-months.csv\")\n",
    "\n",
    "urllib.request.urlretrieve(url = \"https://ndownloader.figshare.com/files/12807386\", \n",
    "                           filename = \"data/temp-1996-to-2000-months.csv\")\n",
    "\n",
    "# Print message that data downloads were successful\n",
    "print(\"datasets downloaded successfully\")"
   ]
  },
  {
   "cell_type": "markdown",
   "metadata": {},
   "source": [
    "**Import dowloaded files into numpy arrays and pandas dataframes**"
   ]
  },
  {
   "cell_type": "code",
   "execution_count": 4,
   "metadata": {},
   "outputs": [],
   "source": [
    "# Import the monthly average values from `monthly-precip-1988-to-1992.csv` as a numpy array\n",
    "monthly_precip_1988_to_1992 = np.loadtxt(fname= \"C:/users/jd/earth-analytics-bootcamp/data/monthly-precip-1988-to-1992.csv\", delimiter = \",\")\n",
    "\n",
    "# Import the monthly average values from `bmonthly-precip-1993-to-1997.csv` as a numpy array\n",
    "monthly_precip_1993_to_1997 = np.loadtxt(fname= \"C:/users/jd/earth-analytics-bootcamp/data/monthly-precip-1993-to-1997.csv\", delimiter = \",\")\n",
    "\n",
    "# Import the monthly average temperature values from 'temp-1991-to-1995-months.csv' as a pandas dataframe\n",
    "temp_1991_to_1995_months = pd.read_csv(\"C:/users/jd/earth-analytics-bootcamp/data/temp-1991-to-1995-months.csv\")\n",
    "\n",
    "# Import the monthly average temperature values from 'temp-1996-to-2000-months.csv' as a pandas dataframe\n",
    "temp_1996_to_2000_months = pd.read_csv(\"C:/users/jd/earth-analytics-bootcamp/data/temp-1996-to-2000-months.csv\")"
   ]
  },
  {
   "cell_type": "markdown",
   "metadata": {},
   "source": [
    "**Print the arrays and dataframes**"
   ]
  },
  {
   "cell_type": "code",
   "execution_count": 5,
   "metadata": {},
   "outputs": [
    {
     "name": "stdout",
     "output_type": "stream",
     "text": [
      "[[0.4  1.14 2.53 1.48 3.7  0.7  0.71 1.33 2.02 0.03 0.75 2.16]\n",
      " [1.19 1.27 0.97 1.95 2.68 2.93 1.43 1.63 3.54 1.4  0.09 1.54]\n",
      " [1.04 1.32 4.55 2.16 1.73 0.39 4.23 1.13 1.84 0.96 1.6  0.75]\n",
      " [1.05 0.15 0.43 2.41 2.9  3.59 3.11 2.08 1.21 0.93 3.3  0.01]\n",
      " [0.67 0.   5.17 0.46 1.7  0.96 1.13 3.08 0.02 0.79 2.56 0.84]]\n",
      "\n",
      "[[0.25 0.9  2.15 2.56 1.73 3.38 1.4  1.04 3.32 2.42 2.17 0.55]\n",
      " [0.86 1.37 1.61 3.46 1.35 0.93 0.35 2.56 0.54 1.02 2.25 0.49]\n",
      " [0.64 1.53 1.21 5.45 9.59 4.03 0.72 1.45 2.96 0.59 1.51 0.25]\n",
      " [1.89 0.29 2.16 1.49 4.63 2.77 1.96 0.63 3.48 0.28 1.43 0.37]\n",
      " [0.87 1.83 0.91 5.77 2.19 3.69 1.14 5.27 1.92 2.7  1.52 0.68]]\n",
      "\n",
      "   Year  January  February  March  April   May  June  July  August  September  \\\n",
      "0  1991     29.9      40.9   42.8   47.8  58.2  66.6  70.5    69.2       61.7   \n",
      "1  1992     35.9      40.6   43.3   54.3  59.1  62.9  68.3    66.3       64.4   \n",
      "2  1993     28.3      30.6   42.4   47.6  57.5  64.5  69.5    67.3       58.8   \n",
      "3  1994     35.5      31.9   43.9   47.6  60.8  70.0  71.2    70.9       65.0   \n",
      "4  1995     34.5      38.3   42.1   45.1  50.9  62.4  70.5    74.0       60.4   \n",
      "\n",
      "   October  November  December  \n",
      "0     52.1      36.8      35.3  \n",
      "1     54.1      34.1      29.2  \n",
      "2     48.7      35.6      35.4  \n",
      "3     50.6      36.6      36.1  \n",
      "4     50.5      45.0      36.3  \n",
      "\n",
      "   Year  January  February  March  April   May  June  July  August  September  \\\n",
      "0  1996     29.7      37.7   37.9   50.4  58.9  66.9  71.5    69.5       60.8   \n",
      "1  1997     31.3      32.8   45.5   42.8  57.4  66.5  71.4    68.7       64.0   \n",
      "2  1998     36.5      36.4   38.7   46.5  58.8  62.1  72.8    70.7       67.1   \n",
      "3  1999     36.4      42.1   46.0   44.5  55.6  64.8  73.5    69.3       58.5   \n",
      "4  2000     36.4      41.0   42.9   51.2  61.0  67.4  74.7    73.0       63.1   \n",
      "\n",
      "   October  November  December  \n",
      "0     53.1      40.6      36.5  \n",
      "1     52.7      37.9      33.9  \n",
      "2     50.4      44.0      32.2  \n",
      "3     51.9      48.0      36.9  \n",
      "4     49.6      31.4      31.2  \n"
     ]
    }
   ],
   "source": [
    "# print the numpy arrays\n",
    "print(monthly_precip_1988_to_1992)\n",
    "print(\"\")\n",
    "print(monthly_precip_1993_to_1997)\n",
    "print(\"\")\n",
    "\n",
    "# print the pandas dataframes\n",
    "print(temp_1991_to_1995_months)\n",
    "print(\"\")\n",
    "print(temp_1996_to_2000_months)"
   ]
  },
  {
   "cell_type": "markdown",
   "metadata": {},
   "source": [
    "**Question 1: Use Indexing to Select from Numpy Array**\n",
    "\n",
    "* Select the second row of data (including all columns) from the numpy array containing the data for 1988 to 1992, and save to a new numpy array.\n",
    "\n",
    "* Name the new array to indicate the year of data that it represents."
   ]
  },
  {
   "cell_type": "code",
   "execution_count": 6,
   "metadata": {},
   "outputs": [
    {
     "data": {
      "text/plain": [
       "array([[1.19, 1.27, 0.97, 1.95, 2.68, 2.93, 1.43, 1.63, 3.54, 1.4 , 0.09,\n",
       "        1.54]])"
      ]
     },
     "execution_count": 6,
     "metadata": {},
     "output_type": "execute_result"
    }
   ],
   "source": [
    "# make a new array from the second row of data in the 1988_to_1992 array\n",
    "precip_1989 = monthly_precip_1988_to_1992[1:2, 0:12]\n",
    "\n",
    "# Display the new array\n",
    "precip_1989"
   ]
  },
  {
   "cell_type": "markdown",
   "metadata": {},
   "source": [
    "**Question 2: Write a Conditional Statement to Check Dimensions of Numpy Array**\n",
    "\n",
    "* Write a conditional statement that checks whether the numpy array created in the previous question (i.e. the selection) is a one-dimensional numpy array.\n",
    "\n",
    "* Print a message stating whether or not the array is one-dimensional."
   ]
  },
  {
   "cell_type": "code",
   "execution_count": null,
   "metadata": {},
   "outputs": [],
   "source": []
  }
 ],
 "metadata": {
  "kernelspec": {
   "display_name": "Python 3",
   "language": "python",
   "name": "python3"
  },
  "language_info": {
   "codemirror_mode": {
    "name": "ipython",
    "version": 3
   },
   "file_extension": ".py",
   "mimetype": "text/x-python",
   "name": "python",
   "nbconvert_exporter": "python",
   "pygments_lexer": "ipython3",
   "version": "3.7.4"
  }
 },
 "nbformat": 4,
 "nbformat_minor": 2
}
