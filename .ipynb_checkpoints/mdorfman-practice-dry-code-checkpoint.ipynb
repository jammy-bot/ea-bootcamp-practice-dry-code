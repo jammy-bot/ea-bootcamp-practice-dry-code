{
 "cells": [
  {
   "cell_type": "markdown",
   "metadata": {},
   "source": [
    "# Practice with DRY code\n",
    "<b>Author:</b> Mike Dorfman  \n",
    "<b>Date:</b> August 20, 2018"
   ]
  },
  {
   "cell_type": "markdown",
   "metadata": {},
   "source": [
    "Import necessary packages"
   ]
  },
  {
   "cell_type": "code",
   "execution_count": 2,
   "metadata": {},
   "outputs": [
    {
     "name": "stdout",
     "output_type": "stream",
     "text": [
      "Imports successful\n"
     ]
    }
   ],
   "source": [
    "import os\n",
    "import urllib.request\n",
    "import pandas as pd\n",
    "import numpy as np\n",
    "\n",
    "print(\"Imports successful\")"
   ]
  },
  {
   "cell_type": "markdown",
   "metadata": {},
   "source": [
    "Download files with urllib and import into numpy arrays"
   ]
  },
  {
   "cell_type": "code",
   "execution_count": 24,
   "metadata": {},
   "outputs": [
    {
     "name": "stdout",
     "output_type": "stream",
     "text": [
      "[[0.4  1.14 2.53 1.48 3.7  0.7  0.71 1.33 2.02 0.03 0.75 2.16]\n",
      " [1.19 1.27 0.97 1.95 2.68 2.93 1.43 1.63 3.54 1.4  0.09 1.54]\n",
      " [1.04 1.32 4.55 2.16 1.73 0.39 4.23 1.13 1.84 0.96 1.6  0.75]\n",
      " [1.05 0.15 0.43 2.41 2.9  3.59 3.11 2.08 1.21 0.93 3.3  0.01]\n",
      " [0.67 0.   5.17 0.46 1.7  0.96 1.13 3.08 0.02 0.79 2.56 0.84]]\n",
      "\n",
      "[[0.25 0.9  2.15 2.56 1.73 3.38 1.4  1.04 3.32 2.42 2.17 0.55]\n",
      " [0.86 1.37 1.61 3.46 1.35 0.93 0.35 2.56 0.54 1.02 2.25 0.49]\n",
      " [0.64 1.53 1.21 5.45 9.59 4.03 0.72 1.45 2.96 0.59 1.51 0.25]\n",
      " [1.89 0.29 2.16 1.49 4.63 2.77 1.96 0.63 3.48 0.28 1.43 0.37]\n",
      " [0.87 1.83 0.91 5.77 2.19 3.69 1.14 5.27 1.92 2.7  1.52 0.68]]\n"
     ]
    }
   ],
   "source": [
    "# Change directories to the data directory\n",
    "os.chdir(\"../data\")\n",
    "\n",
    "# Download files from figshare to the data directory\n",
    "urllib.request.urlretrieve(url=\"https://ndownloader.figshare.com/files/12807380\", \n",
    "               filename=\"monthly-precip-1988-to-1992.csv\")\n",
    "urllib.request.urlretrieve(url=\"https://ndownloader.figshare.com/files/12807383\", \n",
    "               filename=\"monthly-precip-1993-to-1997.csv\")\n",
    "\n",
    "# Import into numpy arrays\n",
    "precip_mm_1988_to_1992 = np.loadtxt(fname=\"monthly-precip-1988-to-1992.csv\", delimiter=\",\")\n",
    "precip_mm_1993_to_1997 = np.loadtxt(fname=\"monthly-precip-1993-to-1997.csv\", delimiter=\",\")\n",
    "print(precip_mm_1988_to_1992)\n",
    "print(\"\")\n",
    "print(precip_mm_1993_to_1997)"
   ]
  },
  {
   "cell_type": "markdown",
   "metadata": {},
   "source": [
    "Download files with urllib and import into pandas dataframes."
   ]
  },
  {
   "cell_type": "code",
   "execution_count": 5,
   "metadata": {
    "scrolled": true
   },
   "outputs": [
    {
     "data": {
      "text/html": [
       "<div>\n",
       "<style scoped>\n",
       "    .dataframe tbody tr th:only-of-type {\n",
       "        vertical-align: middle;\n",
       "    }\n",
       "\n",
       "    .dataframe tbody tr th {\n",
       "        vertical-align: top;\n",
       "    }\n",
       "\n",
       "    .dataframe thead th {\n",
       "        text-align: right;\n",
       "    }\n",
       "</style>\n",
       "<table border=\"1\" class=\"dataframe\">\n",
       "  <thead>\n",
       "    <tr style=\"text-align: right;\">\n",
       "      <th></th>\n",
       "      <th>Year</th>\n",
       "      <th>January</th>\n",
       "      <th>February</th>\n",
       "      <th>March</th>\n",
       "      <th>April</th>\n",
       "      <th>May</th>\n",
       "      <th>June</th>\n",
       "      <th>July</th>\n",
       "      <th>August</th>\n",
       "      <th>September</th>\n",
       "      <th>October</th>\n",
       "      <th>November</th>\n",
       "      <th>December</th>\n",
       "    </tr>\n",
       "  </thead>\n",
       "  <tbody>\n",
       "    <tr>\n",
       "      <th>0</th>\n",
       "      <td>1991</td>\n",
       "      <td>29.9</td>\n",
       "      <td>40.9</td>\n",
       "      <td>42.8</td>\n",
       "      <td>47.8</td>\n",
       "      <td>58.2</td>\n",
       "      <td>66.6</td>\n",
       "      <td>70.5</td>\n",
       "      <td>69.2</td>\n",
       "      <td>61.7</td>\n",
       "      <td>52.1</td>\n",
       "      <td>36.8</td>\n",
       "      <td>35.3</td>\n",
       "    </tr>\n",
       "    <tr>\n",
       "      <th>1</th>\n",
       "      <td>1992</td>\n",
       "      <td>35.9</td>\n",
       "      <td>40.6</td>\n",
       "      <td>43.3</td>\n",
       "      <td>54.3</td>\n",
       "      <td>59.1</td>\n",
       "      <td>62.9</td>\n",
       "      <td>68.3</td>\n",
       "      <td>66.3</td>\n",
       "      <td>64.4</td>\n",
       "      <td>54.1</td>\n",
       "      <td>34.1</td>\n",
       "      <td>29.2</td>\n",
       "    </tr>\n",
       "    <tr>\n",
       "      <th>2</th>\n",
       "      <td>1993</td>\n",
       "      <td>28.3</td>\n",
       "      <td>30.6</td>\n",
       "      <td>42.4</td>\n",
       "      <td>47.6</td>\n",
       "      <td>57.5</td>\n",
       "      <td>64.5</td>\n",
       "      <td>69.5</td>\n",
       "      <td>67.3</td>\n",
       "      <td>58.8</td>\n",
       "      <td>48.7</td>\n",
       "      <td>35.6</td>\n",
       "      <td>35.4</td>\n",
       "    </tr>\n",
       "    <tr>\n",
       "      <th>3</th>\n",
       "      <td>1994</td>\n",
       "      <td>35.5</td>\n",
       "      <td>31.9</td>\n",
       "      <td>43.9</td>\n",
       "      <td>47.6</td>\n",
       "      <td>60.8</td>\n",
       "      <td>70.0</td>\n",
       "      <td>71.2</td>\n",
       "      <td>70.9</td>\n",
       "      <td>65.0</td>\n",
       "      <td>50.6</td>\n",
       "      <td>36.6</td>\n",
       "      <td>36.1</td>\n",
       "    </tr>\n",
       "    <tr>\n",
       "      <th>4</th>\n",
       "      <td>1995</td>\n",
       "      <td>34.5</td>\n",
       "      <td>38.3</td>\n",
       "      <td>42.1</td>\n",
       "      <td>45.1</td>\n",
       "      <td>50.9</td>\n",
       "      <td>62.4</td>\n",
       "      <td>70.5</td>\n",
       "      <td>74.0</td>\n",
       "      <td>60.4</td>\n",
       "      <td>50.5</td>\n",
       "      <td>45.0</td>\n",
       "      <td>36.3</td>\n",
       "    </tr>\n",
       "  </tbody>\n",
       "</table>\n",
       "</div>"
      ],
      "text/plain": [
       "   Year  January  February  March  April   May  June  July  August  September  \\\n",
       "0  1991     29.9      40.9   42.8   47.8  58.2  66.6  70.5    69.2       61.7   \n",
       "1  1992     35.9      40.6   43.3   54.3  59.1  62.9  68.3    66.3       64.4   \n",
       "2  1993     28.3      30.6   42.4   47.6  57.5  64.5  69.5    67.3       58.8   \n",
       "3  1994     35.5      31.9   43.9   47.6  60.8  70.0  71.2    70.9       65.0   \n",
       "4  1995     34.5      38.3   42.1   45.1  50.9  62.4  70.5    74.0       60.4   \n",
       "\n",
       "   October  November  December  \n",
       "0     52.1      36.8      35.3  \n",
       "1     54.1      34.1      29.2  \n",
       "2     48.7      35.6      35.4  \n",
       "3     50.6      36.6      36.1  \n",
       "4     50.5      45.0      36.3  "
      ]
     },
     "execution_count": 5,
     "metadata": {},
     "output_type": "execute_result"
    }
   ],
   "source": [
    "# Download files from figshare to the data directory\n",
    "urllib.request.urlretrieve(url=\"https://ndownloader.figshare.com/files/12807389\", \n",
    "               filename=\"temp-1991-to-1995-months.csv\")\n",
    "urllib.request.urlretrieve(url=\"https://ndownloader.figshare.com/files/12807386\", \n",
    "               filename=\"temp-1996-to-2000-months.csv\")\n",
    "\n",
    "\n",
    "# Import first file into a pandas dataframe and print in tabular form# Import \n",
    "temp_f_1991_to_1995_pd = pd.read_csv(\"temp-1991-to-1995-months.csv\")\n",
    "temp_f_1991_to_1995_pd"
   ]
  },
  {
   "cell_type": "code",
   "execution_count": 6,
   "metadata": {
    "scrolled": true
   },
   "outputs": [
    {
     "data": {
      "text/html": [
       "<div>\n",
       "<style scoped>\n",
       "    .dataframe tbody tr th:only-of-type {\n",
       "        vertical-align: middle;\n",
       "    }\n",
       "\n",
       "    .dataframe tbody tr th {\n",
       "        vertical-align: top;\n",
       "    }\n",
       "\n",
       "    .dataframe thead th {\n",
       "        text-align: right;\n",
       "    }\n",
       "</style>\n",
       "<table border=\"1\" class=\"dataframe\">\n",
       "  <thead>\n",
       "    <tr style=\"text-align: right;\">\n",
       "      <th></th>\n",
       "      <th>Year</th>\n",
       "      <th>January</th>\n",
       "      <th>February</th>\n",
       "      <th>March</th>\n",
       "      <th>April</th>\n",
       "      <th>May</th>\n",
       "      <th>June</th>\n",
       "      <th>July</th>\n",
       "      <th>August</th>\n",
       "      <th>September</th>\n",
       "      <th>October</th>\n",
       "      <th>November</th>\n",
       "      <th>December</th>\n",
       "    </tr>\n",
       "  </thead>\n",
       "  <tbody>\n",
       "    <tr>\n",
       "      <th>0</th>\n",
       "      <td>1996</td>\n",
       "      <td>29.7</td>\n",
       "      <td>37.7</td>\n",
       "      <td>37.9</td>\n",
       "      <td>50.4</td>\n",
       "      <td>58.9</td>\n",
       "      <td>66.9</td>\n",
       "      <td>71.5</td>\n",
       "      <td>69.5</td>\n",
       "      <td>60.8</td>\n",
       "      <td>53.1</td>\n",
       "      <td>40.6</td>\n",
       "      <td>36.5</td>\n",
       "    </tr>\n",
       "    <tr>\n",
       "      <th>1</th>\n",
       "      <td>1997</td>\n",
       "      <td>31.3</td>\n",
       "      <td>32.8</td>\n",
       "      <td>45.5</td>\n",
       "      <td>42.8</td>\n",
       "      <td>57.4</td>\n",
       "      <td>66.5</td>\n",
       "      <td>71.4</td>\n",
       "      <td>68.7</td>\n",
       "      <td>64.0</td>\n",
       "      <td>52.7</td>\n",
       "      <td>37.9</td>\n",
       "      <td>33.9</td>\n",
       "    </tr>\n",
       "    <tr>\n",
       "      <th>2</th>\n",
       "      <td>1998</td>\n",
       "      <td>36.5</td>\n",
       "      <td>36.4</td>\n",
       "      <td>38.7</td>\n",
       "      <td>46.5</td>\n",
       "      <td>58.8</td>\n",
       "      <td>62.1</td>\n",
       "      <td>72.8</td>\n",
       "      <td>70.7</td>\n",
       "      <td>67.1</td>\n",
       "      <td>50.4</td>\n",
       "      <td>44.0</td>\n",
       "      <td>32.2</td>\n",
       "    </tr>\n",
       "    <tr>\n",
       "      <th>3</th>\n",
       "      <td>1999</td>\n",
       "      <td>36.4</td>\n",
       "      <td>42.1</td>\n",
       "      <td>46.0</td>\n",
       "      <td>44.5</td>\n",
       "      <td>55.6</td>\n",
       "      <td>64.8</td>\n",
       "      <td>73.5</td>\n",
       "      <td>69.3</td>\n",
       "      <td>58.5</td>\n",
       "      <td>51.9</td>\n",
       "      <td>48.0</td>\n",
       "      <td>36.9</td>\n",
       "    </tr>\n",
       "    <tr>\n",
       "      <th>4</th>\n",
       "      <td>2000</td>\n",
       "      <td>36.4</td>\n",
       "      <td>41.0</td>\n",
       "      <td>42.9</td>\n",
       "      <td>51.2</td>\n",
       "      <td>61.0</td>\n",
       "      <td>67.4</td>\n",
       "      <td>74.7</td>\n",
       "      <td>73.0</td>\n",
       "      <td>63.1</td>\n",
       "      <td>49.6</td>\n",
       "      <td>31.4</td>\n",
       "      <td>31.2</td>\n",
       "    </tr>\n",
       "  </tbody>\n",
       "</table>\n",
       "</div>"
      ],
      "text/plain": [
       "   Year  January  February  March  April   May  June  July  August  September  \\\n",
       "0  1996     29.7      37.7   37.9   50.4  58.9  66.9  71.5    69.5       60.8   \n",
       "1  1997     31.3      32.8   45.5   42.8  57.4  66.5  71.4    68.7       64.0   \n",
       "2  1998     36.5      36.4   38.7   46.5  58.8  62.1  72.8    70.7       67.1   \n",
       "3  1999     36.4      42.1   46.0   44.5  55.6  64.8  73.5    69.3       58.5   \n",
       "4  2000     36.4      41.0   42.9   51.2  61.0  67.4  74.7    73.0       63.1   \n",
       "\n",
       "   October  November  December  \n",
       "0     53.1      40.6      36.5  \n",
       "1     52.7      37.9      33.9  \n",
       "2     50.4      44.0      32.2  \n",
       "3     51.9      48.0      36.9  \n",
       "4     49.6      31.4      31.2  "
      ]
     },
     "execution_count": 6,
     "metadata": {},
     "output_type": "execute_result"
    }
   ],
   "source": [
    "temp_f_1996_to_2000_pd = pd.read_csv(\"temp-1996-to-2000-months.csv\")\n",
    "temp_f_1996_to_2000_pd"
   ]
  },
  {
   "cell_type": "markdown",
   "metadata": {},
   "source": [
    "Subset the data to only get 1989."
   ]
  },
  {
   "cell_type": "code",
   "execution_count": 9,
   "metadata": {},
   "outputs": [
    {
     "name": "stdout",
     "output_type": "stream",
     "text": [
      "[1.19 1.27 0.97 1.95 2.68 2.93 1.43 1.63 3.54 1.4  0.09 1.54]\n"
     ]
    }
   ],
   "source": [
    "# Get the second row (1989)\n",
    "precip_mm_1989 = precip_mm_1988_to_1992[1]\n",
    "print(precip_mm_1989)"
   ]
  },
  {
   "cell_type": "markdown",
   "metadata": {},
   "source": [
    "Write a conditional to check the dimensions"
   ]
  },
  {
   "cell_type": "code",
   "execution_count": 10,
   "metadata": {},
   "outputs": [
    {
     "name": "stdout",
     "output_type": "stream",
     "text": [
      "This is a one-dimensional array.\n"
     ]
    }
   ],
   "source": [
    "if precip_mm_1989.ndim == 1:\n",
    "    print(\"This is a one-dimensional array.\")\n",
    "else:\n",
    "    print(\"This is NOT a one-dimensional array.\")"
   ]
  },
  {
   "cell_type": "markdown",
   "metadata": {},
   "source": [
    "Print the shape instead of just printing a message."
   ]
  },
  {
   "cell_type": "code",
   "execution_count": 11,
   "metadata": {},
   "outputs": [
    {
     "name": "stdout",
     "output_type": "stream",
     "text": [
      "(12,)\n"
     ]
    }
   ],
   "source": [
    "if precip_mm_1989.ndim == 1:\n",
    "    print(precip_mm_1989.shape)\n",
    "else:\n",
    "    precip_mm_1989_1d = precip_mm_1989.flatten()\n",
    "    print(precip_mm_1989.shape)"
   ]
  },
  {
   "cell_type": "markdown",
   "metadata": {},
   "source": [
    "Manually create a month name array and check to make sure it has the same dims as precip_mm_1989"
   ]
  },
  {
   "cell_type": "code",
   "execution_count": 13,
   "metadata": {},
   "outputs": [
    {
     "name": "stdout",
     "output_type": "stream",
     "text": [
      "These arrays have the same shape and can be plotted together.\n"
     ]
    }
   ],
   "source": [
    "# Manually create a numpy array with the full month names\n",
    "jan_to_december_names = np.array(['January', \n",
    "                                  'February',\n",
    "                                  'March',\n",
    "                                  'April',\n",
    "                                  'May',\n",
    "                                  'June',\n",
    "                                  'July',\n",
    "                                  'August',\n",
    "                                  'September',\n",
    "                                  'October',\n",
    "                                  'November',\n",
    "                                  'December'])\n",
    "\n",
    "# Make sure the shapes are the same\n",
    "if jan_to_december_names.shape == precip_mm_1989.shape:\n",
    "    print(\"These arrays have the same shape and can be plotted together.\")"
   ]
  },
  {
   "cell_type": "markdown",
   "metadata": {},
   "source": [
    "* Check to make sure they are the same shape\n",
    "    * If they are, plot the shapes using this data  \n",
    "    \n",
    "...not sure if you want more detail here, but essentially paste the code in from homework 4 on plotting, indented for the conditional statement, replacing the title with an appropriate title and the data with jan_to_december_names and precip_mm_1989 with the data inputs."
   ]
  },
  {
   "cell_type": "code",
   "execution_count": 14,
   "metadata": {},
   "outputs": [
    {
     "name": "stdout",
     "output_type": "stream",
     "text": [
      "<class 'pandas.core.frame.DataFrame'>\n",
      "RangeIndex: 5 entries, 0 to 4\n",
      "Data columns (total 13 columns):\n",
      "Year         5 non-null int64\n",
      "January      5 non-null float64\n",
      "February     5 non-null float64\n",
      "March        5 non-null float64\n",
      "April        5 non-null float64\n",
      "May          5 non-null float64\n",
      "June         5 non-null float64\n",
      "July         5 non-null float64\n",
      "August       5 non-null float64\n",
      "September    5 non-null float64\n",
      "October      5 non-null float64\n",
      "November     5 non-null float64\n",
      "December     5 non-null float64\n",
      "dtypes: float64(12), int64(1)\n",
      "memory usage: 600.0 bytes\n",
      "None\n",
      "<class 'pandas.core.frame.DataFrame'>\n",
      "RangeIndex: 5 entries, 0 to 4\n",
      "Data columns (total 13 columns):\n",
      "Year         5 non-null int64\n",
      "January      5 non-null float64\n",
      "February     5 non-null float64\n",
      "March        5 non-null float64\n",
      "April        5 non-null float64\n",
      "May          5 non-null float64\n",
      "June         5 non-null float64\n",
      "July         5 non-null float64\n",
      "August       5 non-null float64\n",
      "September    5 non-null float64\n",
      "October      5 non-null float64\n",
      "November     5 non-null float64\n",
      "December     5 non-null float64\n",
      "dtypes: float64(12), int64(1)\n",
      "memory usage: 600.0 bytes\n",
      "None\n"
     ]
    }
   ],
   "source": [
    "dataframe_list = [temp_f_1991_to_1995_pd,\n",
    "             temp_f_1996_to_2000_pd]\n",
    "\n",
    "for dataframe in dataframe_list:\n",
    "    print(dataframe.info())"
   ]
  },
  {
   "cell_type": "markdown",
   "metadata": {},
   "source": [
    "Loop on columns in pandas dataframes"
   ]
  },
  {
   "cell_type": "code",
   "execution_count": 21,
   "metadata": {},
   "outputs": [
    {
     "name": "stdout",
     "output_type": "stream",
     "text": [
      "count     5.000000\n",
      "mean     34.060000\n",
      "std       3.298939\n",
      "min      29.700000\n",
      "25%      31.300000\n",
      "50%      36.400000\n",
      "75%      36.400000\n",
      "max      36.500000\n",
      "Name: January, dtype: float64\n",
      "\n",
      "count     5.000000\n",
      "mean     38.000000\n",
      "std       3.724916\n",
      "min      32.800000\n",
      "25%      36.400000\n",
      "50%      37.700000\n",
      "75%      41.000000\n",
      "max      42.100000\n",
      "Name: February, dtype: float64\n",
      "\n",
      "count     5.000000\n",
      "mean     42.200000\n",
      "std       3.760319\n",
      "min      37.900000\n",
      "25%      38.700000\n",
      "50%      42.900000\n",
      "75%      45.500000\n",
      "max      46.000000\n",
      "Name: March, dtype: float64\n",
      "\n",
      "count     5.000000\n",
      "mean     47.080000\n",
      "std       3.650616\n",
      "min      42.800000\n",
      "25%      44.500000\n",
      "50%      46.500000\n",
      "75%      50.400000\n",
      "max      51.200000\n",
      "Name: April, dtype: float64\n",
      "\n",
      "count     5.0000\n",
      "mean     58.3400\n",
      "std       1.9995\n",
      "min      55.6000\n",
      "25%      57.4000\n",
      "50%      58.8000\n",
      "75%      58.9000\n",
      "max      61.0000\n",
      "Name: May, dtype: float64\n",
      "\n",
      "count     5.000000\n",
      "mean     65.540000\n",
      "std       2.157081\n",
      "min      62.100000\n",
      "25%      64.800000\n",
      "50%      66.500000\n",
      "75%      66.900000\n",
      "max      67.400000\n",
      "Name: June, dtype: float64\n",
      "\n",
      "count     5.000000\n",
      "mean     72.780000\n",
      "std       1.391761\n",
      "min      71.400000\n",
      "25%      71.500000\n",
      "50%      72.800000\n",
      "75%      73.500000\n",
      "max      74.700000\n",
      "Name: July, dtype: float64\n",
      "\n",
      "count     5.000000\n",
      "mean     70.240000\n",
      "std       1.705286\n",
      "min      68.700000\n",
      "25%      69.300000\n",
      "50%      69.500000\n",
      "75%      70.700000\n",
      "max      73.000000\n",
      "Name: August, dtype: float64\n",
      "\n",
      "count     5.000000\n",
      "mean     62.700000\n",
      "std       3.258067\n",
      "min      58.500000\n",
      "25%      60.800000\n",
      "50%      63.100000\n",
      "75%      64.000000\n",
      "max      67.100000\n",
      "Name: September, dtype: float64\n",
      "\n",
      "count     5.000000\n",
      "mean     51.540000\n",
      "std       1.497665\n",
      "min      49.600000\n",
      "25%      50.400000\n",
      "50%      51.900000\n",
      "75%      52.700000\n",
      "max      53.100000\n",
      "Name: October, dtype: float64\n",
      "\n",
      "count     5.000000\n",
      "mean     40.380000\n",
      "std       6.285062\n",
      "min      31.400000\n",
      "25%      37.900000\n",
      "50%      40.600000\n",
      "75%      44.000000\n",
      "max      48.000000\n",
      "Name: November, dtype: float64\n",
      "\n",
      "count     5.00000\n",
      "mean     34.14000\n",
      "std       2.53239\n",
      "min      31.20000\n",
      "25%      32.20000\n",
      "50%      33.90000\n",
      "75%      36.50000\n",
      "max      36.90000\n",
      "Name: December, dtype: float64\n",
      "\n"
     ]
    }
   ],
   "source": [
    "# Loop through the columns\n",
    "for column_name in temp_f_1996_to_2000_pd:\n",
    "    # There's a year column.  We don't want to describe that, so only describe the month columns.\n",
    "    if column_name in jan_to_december_names[:]:\n",
    "        print(temp_f_1996_to_2000_pd[column_name].describe())\n",
    "        print(\"\")"
   ]
  },
  {
   "cell_type": "markdown",
   "metadata": {},
   "source": [
    "Write a function that calculates the mean across the columns of a numpy array:"
   ]
  },
  {
   "cell_type": "code",
   "execution_count": 22,
   "metadata": {},
   "outputs": [],
   "source": [
    "def column_mean(array_in):\n",
    "    '''\n",
    "    Calculates the mean of the columns of a numpy array\n",
    "    Parameters\n",
    "    ----------\n",
    "    array_in : numpy 2-d array\n",
    "        Input array\n",
    "    Returns\n",
    "    ----------\n",
    "    numpy 1-d array\n",
    "        The mean of the columns\n",
    "    '''\n",
    "    return np.mean(array_in, axis=0)"
   ]
  },
  {
   "cell_type": "markdown",
   "metadata": {},
   "source": [
    "Run the function on precip_mm_1993_to_1997"
   ]
  },
  {
   "cell_type": "code",
   "execution_count": 25,
   "metadata": {},
   "outputs": [
    {
     "name": "stdout",
     "output_type": "stream",
     "text": [
      "[0.902 1.184 1.608 3.746 3.898 2.96  1.114 2.19  2.444 1.402 1.776 0.468]\n"
     ]
    }
   ],
   "source": [
    "# Run the column_mean function on precip_mm_1993_to_1997\n",
    "precip_mm_1993_to_1997_mean = column_mean(precip_mm_1993_to_1997)\n",
    "print(precip_mm_1993_to_1997_mean)"
   ]
  },
  {
   "cell_type": "markdown",
   "metadata": {},
   "source": [
    "### To run the column_mean function on multiple arrays, you need to:\n"
   ]
  }
 ],
 "metadata": {
  "kernelspec": {
   "display_name": "Python 3",
   "language": "python",
   "name": "python3"
  },
  "language_info": {
   "codemirror_mode": {
    "name": "ipython",
    "version": 3
   },
   "file_extension": ".py",
   "mimetype": "text/x-python",
   "name": "python",
   "nbconvert_exporter": "python",
   "pygments_lexer": "ipython3",
   "version": "3.7.4"
  }
 },
 "nbformat": 4,
 "nbformat_minor": 2
}
